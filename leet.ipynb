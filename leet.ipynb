{
 "cells": [
  {
   "cell_type": "markdown",
   "source": [
    "# That is the project that explores LeetCode Data.\n",
    "## It will show which type of questions are most liked, which are the hardest and which topics you should concentrate on while learning. Have fun exploring!\n",
    "Let's import pandas and see what's the dataset like"
   ],
   "metadata": {
    "collapsed": false
   }
  },
  {
   "cell_type": "code",
   "execution_count": 1,
   "metadata": {
    "collapsed": true
   },
   "outputs": [],
   "source": [
    "import pandas as pd"
   ]
  },
  {
   "cell_type": "code",
   "execution_count": 2,
   "outputs": [],
   "source": [
    "df = pd.read_csv(\"leetcode_dataset - lc.csv\")"
   ],
   "metadata": {
    "collapsed": false
   }
  },
  {
   "cell_type": "code",
   "execution_count": 3,
   "outputs": [
    {
     "data": {
      "text/plain": "   id                                           title  \\\n0   1                                         Two Sum   \n1   2                                 Add Two Numbers   \n2   3  Longest Substring Without Repeating Characters   \n3   4                     Median of Two Sorted Arrays   \n4   5                   Longest Palindromic Substring   \n\n                                         description  is_premium difficulty  \\\n0  Given an array of integers `nums` and an integ...           0       Easy   \n1  You are given two non-empty linked lists repre...           0     Medium   \n2  Given a string `s`, find the length of the lon...           0     Medium   \n3  Given two sorted arrays `nums1` and `nums2` of...           0       Hard   \n4  Given a string `s`, return the longest palindr...           0     Medium   \n\n                                       solution_link  acceptance_rate  \\\n0                                  /articles/two-sum             46.7   \n1                          /articles/add-two-numbers             35.7   \n2  /articles/longest-substring-without-repeating-...             31.5   \n3              /articles/median-of-two-sorted-arrays             31.4   \n4            /articles/longest-palindromic-substring             30.6   \n\n   frequency                                                url  \\\n0      100.0              https://leetcode.com/problems/two-sum   \n1       93.1      https://leetcode.com/problems/add-two-numbers   \n2       90.9  https://leetcode.com/problems/longest-substrin...   \n3       86.2  https://leetcode.com/problems/median-of-two-so...   \n4       84.7  https://leetcode.com/problems/longest-palindro...   \n\n   discuss_count accepted submissions  \\\n0            999     4.1M        8.7M   \n1            999     1.9M        5.2M   \n2            999     2.1M        6.7M   \n3            999   904.7K        2.9M   \n4            999     1.3M        4.1M   \n\n                                           companies  \\\n0  Amazon,Google,Apple,Adobe,Microsoft,Bloomberg,...   \n1  Bloomberg,Microsoft,Amazon,Google,Facebook,App...   \n2  Amazon,Bloomberg,Microsoft,Facebook,Apple,Adob...   \n3  Amazon,Goldman Sachs,Facebook,Microsoft,Apple,...   \n4  Amazon,Microsoft,Wayfair,Facebook,Adobe,eBay,G...   \n\n                                  related_topics  likes  dislikes  rating  \\\n0                               Array,Hash Table  20217       712      97   \n1                     Linked List,Math,Recursion  11350      2704      81   \n2  Hash Table,Two Pointers,String,Sliding Window  13810       714      95   \n3         Array,Binary Search,Divide and Conquer   9665      1486      87   \n4                     String,Dynamic Programming  10271       670      94   \n\n   asked_by_faang                                  similar_questions  \n0               1  [3Sum, /problems/3sum/, Medium], [4Sum, /probl...  \n1               1  [Multiply Strings, /problems/multiply-strings/...  \n2               1  [Longest Substring with At Most Two Distinct C...  \n3               1                                                NaN  \n4               1  [Shortest Palindrome, /problems/shortest-palin...  ",
      "text/html": "<div>\n<style scoped>\n    .dataframe tbody tr th:only-of-type {\n        vertical-align: middle;\n    }\n\n    .dataframe tbody tr th {\n        vertical-align: top;\n    }\n\n    .dataframe thead th {\n        text-align: right;\n    }\n</style>\n<table border=\"1\" class=\"dataframe\">\n  <thead>\n    <tr style=\"text-align: right;\">\n      <th></th>\n      <th>id</th>\n      <th>title</th>\n      <th>description</th>\n      <th>is_premium</th>\n      <th>difficulty</th>\n      <th>solution_link</th>\n      <th>acceptance_rate</th>\n      <th>frequency</th>\n      <th>url</th>\n      <th>discuss_count</th>\n      <th>accepted</th>\n      <th>submissions</th>\n      <th>companies</th>\n      <th>related_topics</th>\n      <th>likes</th>\n      <th>dislikes</th>\n      <th>rating</th>\n      <th>asked_by_faang</th>\n      <th>similar_questions</th>\n    </tr>\n  </thead>\n  <tbody>\n    <tr>\n      <th>0</th>\n      <td>1</td>\n      <td>Two Sum</td>\n      <td>Given an array of integers `nums` and an integ...</td>\n      <td>0</td>\n      <td>Easy</td>\n      <td>/articles/two-sum</td>\n      <td>46.7</td>\n      <td>100.0</td>\n      <td>https://leetcode.com/problems/two-sum</td>\n      <td>999</td>\n      <td>4.1M</td>\n      <td>8.7M</td>\n      <td>Amazon,Google,Apple,Adobe,Microsoft,Bloomberg,...</td>\n      <td>Array,Hash Table</td>\n      <td>20217</td>\n      <td>712</td>\n      <td>97</td>\n      <td>1</td>\n      <td>[3Sum, /problems/3sum/, Medium], [4Sum, /probl...</td>\n    </tr>\n    <tr>\n      <th>1</th>\n      <td>2</td>\n      <td>Add Two Numbers</td>\n      <td>You are given two non-empty linked lists repre...</td>\n      <td>0</td>\n      <td>Medium</td>\n      <td>/articles/add-two-numbers</td>\n      <td>35.7</td>\n      <td>93.1</td>\n      <td>https://leetcode.com/problems/add-two-numbers</td>\n      <td>999</td>\n      <td>1.9M</td>\n      <td>5.2M</td>\n      <td>Bloomberg,Microsoft,Amazon,Google,Facebook,App...</td>\n      <td>Linked List,Math,Recursion</td>\n      <td>11350</td>\n      <td>2704</td>\n      <td>81</td>\n      <td>1</td>\n      <td>[Multiply Strings, /problems/multiply-strings/...</td>\n    </tr>\n    <tr>\n      <th>2</th>\n      <td>3</td>\n      <td>Longest Substring Without Repeating Characters</td>\n      <td>Given a string `s`, find the length of the lon...</td>\n      <td>0</td>\n      <td>Medium</td>\n      <td>/articles/longest-substring-without-repeating-...</td>\n      <td>31.5</td>\n      <td>90.9</td>\n      <td>https://leetcode.com/problems/longest-substrin...</td>\n      <td>999</td>\n      <td>2.1M</td>\n      <td>6.7M</td>\n      <td>Amazon,Bloomberg,Microsoft,Facebook,Apple,Adob...</td>\n      <td>Hash Table,Two Pointers,String,Sliding Window</td>\n      <td>13810</td>\n      <td>714</td>\n      <td>95</td>\n      <td>1</td>\n      <td>[Longest Substring with At Most Two Distinct C...</td>\n    </tr>\n    <tr>\n      <th>3</th>\n      <td>4</td>\n      <td>Median of Two Sorted Arrays</td>\n      <td>Given two sorted arrays `nums1` and `nums2` of...</td>\n      <td>0</td>\n      <td>Hard</td>\n      <td>/articles/median-of-two-sorted-arrays</td>\n      <td>31.4</td>\n      <td>86.2</td>\n      <td>https://leetcode.com/problems/median-of-two-so...</td>\n      <td>999</td>\n      <td>904.7K</td>\n      <td>2.9M</td>\n      <td>Amazon,Goldman Sachs,Facebook,Microsoft,Apple,...</td>\n      <td>Array,Binary Search,Divide and Conquer</td>\n      <td>9665</td>\n      <td>1486</td>\n      <td>87</td>\n      <td>1</td>\n      <td>NaN</td>\n    </tr>\n    <tr>\n      <th>4</th>\n      <td>5</td>\n      <td>Longest Palindromic Substring</td>\n      <td>Given a string `s`, return the longest palindr...</td>\n      <td>0</td>\n      <td>Medium</td>\n      <td>/articles/longest-palindromic-substring</td>\n      <td>30.6</td>\n      <td>84.7</td>\n      <td>https://leetcode.com/problems/longest-palindro...</td>\n      <td>999</td>\n      <td>1.3M</td>\n      <td>4.1M</td>\n      <td>Amazon,Microsoft,Wayfair,Facebook,Adobe,eBay,G...</td>\n      <td>String,Dynamic Programming</td>\n      <td>10271</td>\n      <td>670</td>\n      <td>94</td>\n      <td>1</td>\n      <td>[Shortest Palindrome, /problems/shortest-palin...</td>\n    </tr>\n  </tbody>\n</table>\n</div>"
     },
     "execution_count": 3,
     "metadata": {},
     "output_type": "execute_result"
    }
   ],
   "source": [
    "df.head()"
   ],
   "metadata": {
    "collapsed": false
   }
  },
  {
   "cell_type": "markdown",
   "source": [
    "Ok, we have quite a lot of data. First thing that I want to do is to find out what questions are the hardest?"
   ],
   "metadata": {
    "collapsed": false
   }
  },
  {
   "cell_type": "code",
   "execution_count": 4,
   "outputs": [
    {
     "name": "stderr",
     "output_type": "stream",
     "text": [
      "/var/folders/9j/ltkckt2s4zsfxrks574_vgfm0000gn/T/ipykernel_56177/1682980748.py:1: FutureWarning: Dropping invalid columns in DataFrameGroupBy.min is deprecated. In a future version, a TypeError will be raised. Before calling .min, select only columns which should be valid for the function.\n",
      "  df.groupby(['acceptance_rate']).min()\n"
     ]
    },
    {
     "data": {
      "text/plain": "                   id                                   title  \\\nacceptance_rate                                                 \n13.9              420                 Strong Password Checker   \n15.0             1622                          Fancy Sequence   \n15.7                8                String to Integer (atoi)   \n16.0               65                            Valid Number   \n16.9               29                     Divide Two Integers   \n...               ...                                     ...   \n91.0             1393                        Apples & Oranges   \n91.2             1570       Dot Product of Two Sparse Vectors   \n91.4             1783                       Grand Slam Titles   \n94.3             1265  Print Immutable Linked List in Reverse   \n95.6             1757         Recyclable and Low Fat Products   \n\n                                                       description  \\\nacceptance_rate                                                      \n13.9             A password is considered strong if the below c...   \n15.0             Write an API that generates fancy sequences us...   \n15.7             Implement the `myAtoi(string s)` function, whi...   \n16.0             A valid number can be split up into these comp...   \n16.9             Given two integers `dividend` and `divisor`, d...   \n...                                                            ...   \n91.0                                                    SQL Schema   \n91.2             Given two sparse vectors, compute their dot pr...   \n91.4                                                    SQL Schema   \n94.3             You are given an immutable linked list, print ...   \n95.6                                                    SQL Schema   \n\n                 is_premium difficulty  frequency  \\\nacceptance_rate                                     \n13.9                      0       Hard       80.0   \n15.0                      0       Hard       12.3   \n15.7                      0     Medium       56.0   \n16.0                      0       Hard       54.1   \n16.9                      0     Medium       50.5   \n...                     ...        ...        ...   \n91.0                      1     Medium        0.0   \n91.2                      1       Easy        1.5   \n91.4                      1     Medium        1.8   \n94.3                      1     Medium        4.0   \n95.6                      1       Easy        7.8   \n\n                                                               url  \\\nacceptance_rate                                                      \n13.9             https://leetcode.com/problems/strong-password-...   \n15.0                  https://leetcode.com/problems/fancy-sequence   \n15.7             https://leetcode.com/problems/string-to-intege...   \n16.0                    https://leetcode.com/problems/valid-number   \n16.9             https://leetcode.com/problems/divide-two-integers   \n...                                                            ...   \n91.0                  https://leetcode.com/problems/apples-oranges   \n91.2             https://leetcode.com/problems/dot-product-of-t...   \n91.4               https://leetcode.com/problems/grand-slam-titles   \n94.3             https://leetcode.com/problems/print-immutable-...   \n95.6             https://leetcode.com/problems/recyclable-and-l...   \n\n                 discuss_count accepted submissions  likes  dislikes  rating  \\\nacceptance_rate                                                                \n13.9                       166    17.5K      126.1K    317       939      25   \n15.0                        70     3.8K       25.3K    166        53      76   \n15.7                       999   716.1K        4.6M    189       479      28   \n16.0                       999   199.5K        1.2M    902      5572      14   \n16.9                       999   359.2K        2.1M   1727      6727      20   \n...                        ...      ...         ...    ...       ...     ...   \n91.0                       212    13.2K       14.5K     64        11      85   \n91.2                        48    36.4K       39.9K     24         3      86   \n91.4                        64     1.9K        2.1K     26         0     100   \n94.3                       201      24K       25.4K    266        54      83   \n95.6                        26     6.2K        6.5K     23        20      53   \n\n                 asked_by_faang  \nacceptance_rate                  \n13.9                          1  \n15.0                          1  \n15.7                          1  \n16.0                          1  \n16.9                          1  \n...                         ...  \n91.0                          0  \n91.2                          1  \n91.4                          1  \n94.3                          1  \n95.6                          1  \n\n[576 rows x 14 columns]",
      "text/html": "<div>\n<style scoped>\n    .dataframe tbody tr th:only-of-type {\n        vertical-align: middle;\n    }\n\n    .dataframe tbody tr th {\n        vertical-align: top;\n    }\n\n    .dataframe thead th {\n        text-align: right;\n    }\n</style>\n<table border=\"1\" class=\"dataframe\">\n  <thead>\n    <tr style=\"text-align: right;\">\n      <th></th>\n      <th>id</th>\n      <th>title</th>\n      <th>description</th>\n      <th>is_premium</th>\n      <th>difficulty</th>\n      <th>frequency</th>\n      <th>url</th>\n      <th>discuss_count</th>\n      <th>accepted</th>\n      <th>submissions</th>\n      <th>likes</th>\n      <th>dislikes</th>\n      <th>rating</th>\n      <th>asked_by_faang</th>\n    </tr>\n    <tr>\n      <th>acceptance_rate</th>\n      <th></th>\n      <th></th>\n      <th></th>\n      <th></th>\n      <th></th>\n      <th></th>\n      <th></th>\n      <th></th>\n      <th></th>\n      <th></th>\n      <th></th>\n      <th></th>\n      <th></th>\n      <th></th>\n    </tr>\n  </thead>\n  <tbody>\n    <tr>\n      <th>13.9</th>\n      <td>420</td>\n      <td>Strong Password Checker</td>\n      <td>A password is considered strong if the below c...</td>\n      <td>0</td>\n      <td>Hard</td>\n      <td>80.0</td>\n      <td>https://leetcode.com/problems/strong-password-...</td>\n      <td>166</td>\n      <td>17.5K</td>\n      <td>126.1K</td>\n      <td>317</td>\n      <td>939</td>\n      <td>25</td>\n      <td>1</td>\n    </tr>\n    <tr>\n      <th>15.0</th>\n      <td>1622</td>\n      <td>Fancy Sequence</td>\n      <td>Write an API that generates fancy sequences us...</td>\n      <td>0</td>\n      <td>Hard</td>\n      <td>12.3</td>\n      <td>https://leetcode.com/problems/fancy-sequence</td>\n      <td>70</td>\n      <td>3.8K</td>\n      <td>25.3K</td>\n      <td>166</td>\n      <td>53</td>\n      <td>76</td>\n      <td>1</td>\n    </tr>\n    <tr>\n      <th>15.7</th>\n      <td>8</td>\n      <td>String to Integer (atoi)</td>\n      <td>Implement the `myAtoi(string s)` function, whi...</td>\n      <td>0</td>\n      <td>Medium</td>\n      <td>56.0</td>\n      <td>https://leetcode.com/problems/string-to-intege...</td>\n      <td>999</td>\n      <td>716.1K</td>\n      <td>4.6M</td>\n      <td>189</td>\n      <td>479</td>\n      <td>28</td>\n      <td>1</td>\n    </tr>\n    <tr>\n      <th>16.0</th>\n      <td>65</td>\n      <td>Valid Number</td>\n      <td>A valid number can be split up into these comp...</td>\n      <td>0</td>\n      <td>Hard</td>\n      <td>54.1</td>\n      <td>https://leetcode.com/problems/valid-number</td>\n      <td>999</td>\n      <td>199.5K</td>\n      <td>1.2M</td>\n      <td>902</td>\n      <td>5572</td>\n      <td>14</td>\n      <td>1</td>\n    </tr>\n    <tr>\n      <th>16.9</th>\n      <td>29</td>\n      <td>Divide Two Integers</td>\n      <td>Given two integers `dividend` and `divisor`, d...</td>\n      <td>0</td>\n      <td>Medium</td>\n      <td>50.5</td>\n      <td>https://leetcode.com/problems/divide-two-integers</td>\n      <td>999</td>\n      <td>359.2K</td>\n      <td>2.1M</td>\n      <td>1727</td>\n      <td>6727</td>\n      <td>20</td>\n      <td>1</td>\n    </tr>\n    <tr>\n      <th>...</th>\n      <td>...</td>\n      <td>...</td>\n      <td>...</td>\n      <td>...</td>\n      <td>...</td>\n      <td>...</td>\n      <td>...</td>\n      <td>...</td>\n      <td>...</td>\n      <td>...</td>\n      <td>...</td>\n      <td>...</td>\n      <td>...</td>\n      <td>...</td>\n    </tr>\n    <tr>\n      <th>91.0</th>\n      <td>1393</td>\n      <td>Apples &amp; Oranges</td>\n      <td>SQL Schema</td>\n      <td>1</td>\n      <td>Medium</td>\n      <td>0.0</td>\n      <td>https://leetcode.com/problems/apples-oranges</td>\n      <td>212</td>\n      <td>13.2K</td>\n      <td>14.5K</td>\n      <td>64</td>\n      <td>11</td>\n      <td>85</td>\n      <td>0</td>\n    </tr>\n    <tr>\n      <th>91.2</th>\n      <td>1570</td>\n      <td>Dot Product of Two Sparse Vectors</td>\n      <td>Given two sparse vectors, compute their dot pr...</td>\n      <td>1</td>\n      <td>Easy</td>\n      <td>1.5</td>\n      <td>https://leetcode.com/problems/dot-product-of-t...</td>\n      <td>48</td>\n      <td>36.4K</td>\n      <td>39.9K</td>\n      <td>24</td>\n      <td>3</td>\n      <td>86</td>\n      <td>1</td>\n    </tr>\n    <tr>\n      <th>91.4</th>\n      <td>1783</td>\n      <td>Grand Slam Titles</td>\n      <td>SQL Schema</td>\n      <td>1</td>\n      <td>Medium</td>\n      <td>1.8</td>\n      <td>https://leetcode.com/problems/grand-slam-titles</td>\n      <td>64</td>\n      <td>1.9K</td>\n      <td>2.1K</td>\n      <td>26</td>\n      <td>0</td>\n      <td>100</td>\n      <td>1</td>\n    </tr>\n    <tr>\n      <th>94.3</th>\n      <td>1265</td>\n      <td>Print Immutable Linked List in Reverse</td>\n      <td>You are given an immutable linked list, print ...</td>\n      <td>1</td>\n      <td>Medium</td>\n      <td>4.0</td>\n      <td>https://leetcode.com/problems/print-immutable-...</td>\n      <td>201</td>\n      <td>24K</td>\n      <td>25.4K</td>\n      <td>266</td>\n      <td>54</td>\n      <td>83</td>\n      <td>1</td>\n    </tr>\n    <tr>\n      <th>95.6</th>\n      <td>1757</td>\n      <td>Recyclable and Low Fat Products</td>\n      <td>SQL Schema</td>\n      <td>1</td>\n      <td>Easy</td>\n      <td>7.8</td>\n      <td>https://leetcode.com/problems/recyclable-and-l...</td>\n      <td>26</td>\n      <td>6.2K</td>\n      <td>6.5K</td>\n      <td>23</td>\n      <td>20</td>\n      <td>53</td>\n      <td>1</td>\n    </tr>\n  </tbody>\n</table>\n<p>576 rows × 14 columns</p>\n</div>"
     },
     "execution_count": 4,
     "metadata": {},
     "output_type": "execute_result"
    }
   ],
   "source": [
    "df.groupby(['acceptance_rate']).min()"
   ],
   "metadata": {
    "collapsed": false
   }
  },
  {
   "cell_type": "code",
   "execution_count": null,
   "outputs": [],
   "source": [],
   "metadata": {
    "collapsed": false
   }
  }
 ],
 "metadata": {
  "kernelspec": {
   "display_name": "Python 3",
   "language": "python",
   "name": "python3"
  },
  "language_info": {
   "codemirror_mode": {
    "name": "ipython",
    "version": 2
   },
   "file_extension": ".py",
   "mimetype": "text/x-python",
   "name": "python",
   "nbconvert_exporter": "python",
   "pygments_lexer": "ipython2",
   "version": "2.7.6"
  }
 },
 "nbformat": 4,
 "nbformat_minor": 0
}
